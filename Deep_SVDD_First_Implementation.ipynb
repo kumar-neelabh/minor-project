{
  "nbformat": 4,
  "nbformat_minor": 0,
  "metadata": {
    "colab": {
      "name": "Deep SVDD : First Implementation.ipynb",
      "version": "0.3.2",
      "provenance": [],
      "collapsed_sections": [],
      "include_colab_link": true
    },
    "kernelspec": {
      "name": "python3",
      "display_name": "Python 3"
    }
  },
  "cells": [
    {
      "cell_type": "markdown",
      "metadata": {
        "id": "view-in-github",
        "colab_type": "text"
      },
      "source": [
        "<a href=\"https://colab.research.google.com/github/kumar-neelabh/minor-project/blob/master/Deep_SVDD_First_Implementation.ipynb\" target=\"_parent\"><img src=\"https://colab.research.google.com/assets/colab-badge.svg\" alt=\"Open In Colab\"/></a>"
      ]
    },
    {
      "cell_type": "markdown",
      "metadata": {
        "id": "0bBOiELs-qlg",
        "colab_type": "text"
      },
      "source": [
        "# Import Libraries"
      ]
    },
    {
      "cell_type": "code",
      "metadata": {
        "id": "Ez28RLzm-qDt",
        "colab_type": "code",
        "colab": {}
      },
      "source": [
        "import numpy as np\n",
        "import matplotlib.pyplot as plt\n",
        "from keras import Sequential\n",
        "from keras import regularizers\n",
        "from keras import layers\n",
        "from keras.datasets import mnist\n",
        "import keras.backend as K\n",
        "import copy\n",
        "%matplotlib inline"
      ],
      "execution_count": 0,
      "outputs": []
    },
    {
      "cell_type": "markdown",
      "metadata": {
        "id": "oWIql08P-xUA",
        "colab_type": "text"
      },
      "source": [
        "# Dataset : MNIST (Specify Digit Here)\n",
        "Skipping Global Contrast Normalization (GCN) for first implementation"
      ]
    },
    {
      "cell_type": "code",
      "metadata": {
        "id": "cZxdjpi6Bp3A",
        "colab_type": "code",
        "colab": {}
      },
      "source": [
        "DIGIT = 7"
      ],
      "execution_count": 0,
      "outputs": []
    },
    {
      "cell_type": "code",
      "metadata": {
        "id": "-vWtBrss-3N5",
        "colab_type": "code",
        "colab": {}
      },
      "source": [
        "def scale(X):\n",
        "  \"\"\"\n",
        "  Scaling all data to [0,1] w.r.t. the min and max in the train data is very\n",
        "  important for networks without bias units. (data close to zero would\n",
        "  otherwise not be recovered)\n",
        "  \"\"\"\n",
        "  X = X.astype(float)\n",
        "\n",
        "  X_min = np.min(X)\n",
        "  X_max = np.max(X)\n",
        "\n",
        "  X -= X_min\n",
        "\n",
        "  X /= (X_max - X_min)\n",
        "\n",
        "  return X\n",
        "\n",
        "def expand_dims(X):\n",
        "  return np.expand_dims(X, 3)\n",
        "  \n",
        "\n",
        "# min-max scaling\n",
        "def preprocess(X):\n",
        "  X = scale(X)\n",
        "  X = expand_dims(X)\n",
        "  return X\n"
      ],
      "execution_count": 0,
      "outputs": []
    },
    {
      "cell_type": "code",
      "metadata": {
        "id": "wNIk7FR_-g-4",
        "colab_type": "code",
        "colab": {}
      },
      "source": [
        "# Training only on DIGIT's samples. Testing on ALL samples.\n",
        "(x_train, y_train), (x_test, y_test) = mnist.load_data()\n",
        "\n",
        "filter_ = np.isin(y_train, [DIGIT])\n",
        "filtered_x_train, filtered_y_train = x_train[filter_], y_train[filter_]\n",
        "\n",
        "processed_x_train, processed_x_test = preprocess(filtered_x_train), preprocess(x_test)"
      ],
      "execution_count": 0,
      "outputs": []
    },
    {
      "cell_type": "markdown",
      "metadata": {
        "id": "cbOytxRg_UZy",
        "colab_type": "text"
      },
      "source": [
        "# Model : LeNet\n",
        "Approximating Global Weight Decay (not possible in Keras; only a Numpy weights matrix is extractable) by using L2-Regularizers in every layer"
      ]
    },
    {
      "cell_type": "markdown",
      "metadata": {
        "id": "fJCzhUelBA5r",
        "colab_type": "text"
      },
      "source": [
        "Leakiness = 0.01 as per https://github.com/lukasruff/Deep-SVDD/blob/master/src/neuralnet.py"
      ]
    },
    {
      "cell_type": "code",
      "metadata": {
        "id": "xL796GRk_N9J",
        "colab_type": "code",
        "colab": {}
      },
      "source": [
        "height = x_train.shape[1]\n",
        "width = x_train.shape[2]\n",
        "channels = x_train.shape[3] if (len(x_train.shape) == 4) else 1"
      ],
      "execution_count": 0,
      "outputs": []
    },
    {
      "cell_type": "code",
      "metadata": {
        "id": "gtLtYSOd_YMZ",
        "colab_type": "code",
        "colab": {}
      },
      "source": [
        "model = Sequential()\n",
        "\n",
        "model.add(layers.Conv2D(name='Conv_1', use_bias=False, kernel_regularizer=regularizers.l2(0.01), filters=8, kernel_size=(5, 5), padding='same', input_shape=(height, width, channels)))\n",
        "model.add(layers.LeakyReLU(name='LeakyReLU_1', alpha=0.01))\n",
        "model.add(layers.MaxPooling2D(name='MaxPool_1', strides=(1, 1), padding='same'))\n",
        "\n",
        "model.add(layers.Conv2D(name='Conv_2', use_bias=False, kernel_regularizer=regularizers.l2(0.01), filters=4, kernel_size=(5, 5), padding='same'))\n",
        "model.add(layers.LeakyReLU(name='LeakyReLU_2', alpha=0.01))\n",
        "model.add(layers.MaxPooling2D(name='MaxPool_2', strides=(1, 1), padding='same'))\n",
        "\n",
        "model.add(layers.Flatten(name='Flatten'))\n",
        "\n",
        "model.add(layers.Dense(name='Dense', use_bias=False, kernel_regularizer=regularizers.l2(0.01), units=32, activation = 'softmax'))"
      ],
      "execution_count": 0,
      "outputs": []
    },
    {
      "cell_type": "markdown",
      "metadata": {
        "id": "6AkCoT0kBHYa",
        "colab_type": "text"
      },
      "source": [
        "# Training"
      ]
    },
    {
      "cell_type": "markdown",
      "metadata": {
        "id": "IeuJkYhOBOpV",
        "colab_type": "text"
      },
      "source": [
        "### Finding center of circle (mean of sample data in output space)"
      ]
    },
    {
      "cell_type": "code",
      "metadata": {
        "id": "9Q6FMDhK_iZ4",
        "colab_type": "code",
        "colab": {}
      },
      "source": [
        "shuff = copy.deepcopy(processed_x_train)\n",
        "np.random.shuffle(shuff)\n",
        "sample = shuff[0 : int(len(shuff) / 4)]"
      ],
      "execution_count": 0,
      "outputs": []
    },
    {
      "cell_type": "code",
      "metadata": {
        "id": "xML2W3Z7CeaL",
        "colab_type": "code",
        "outputId": "fde19e5a-55d1-4296-8b54-9caccba487d3",
        "colab": {
          "base_uri": "https://localhost:8080/",
          "height": 34
        }
      },
      "source": [
        "outputs = model.predict(sample)\n",
        "center = np.mean(outputs, axis = 0)\n",
        "center.shape"
      ],
      "execution_count": 0,
      "outputs": [
        {
          "output_type": "execute_result",
          "data": {
            "text/plain": [
              "(32,)"
            ]
          },
          "metadata": {
            "tags": []
          },
          "execution_count": 149
        }
      ]
    },
    {
      "cell_type": "code",
      "metadata": {
        "id": "dUsAsbkVCf3v",
        "colab_type": "code",
        "colab": {}
      },
      "source": [
        "center = np.reshape(center, (1, 32))"
      ],
      "execution_count": 0,
      "outputs": []
    },
    {
      "cell_type": "markdown",
      "metadata": {
        "id": "-UyZW2T5Ekos",
        "colab_type": "text"
      },
      "source": [
        "### Custom objective function"
      ]
    },
    {
      "cell_type": "code",
      "metadata": {
        "id": "tsE013k0CqXD",
        "colab_type": "code",
        "colab": {}
      },
      "source": [
        "def custom_loss(c, lamda, weights):\n",
        "  \n",
        "    def loss(y_true, y_pred):\n",
        "      distance_term = K.mean(K.square(y_pred - c))\n",
        "      return distance_term\n",
        "    \n",
        "    return loss"
      ],
      "execution_count": 0,
      "outputs": []
    },
    {
      "cell_type": "code",
      "metadata": {
        "id": "8vgnC0zDEm_E",
        "colab_type": "code",
        "colab": {}
      },
      "source": [
        "model.compile(optimizer='adam',\n",
        "              loss=custom_loss(center, 1e-5, model.get_weights()))"
      ],
      "execution_count": 0,
      "outputs": []
    },
    {
      "cell_type": "markdown",
      "metadata": {
        "id": "I8TMXgnCFcHq",
        "colab_type": "text"
      },
      "source": [
        "### Fitting"
      ]
    },
    {
      "cell_type": "code",
      "metadata": {
        "id": "4iBTifPhEpkf",
        "colab_type": "code",
        "outputId": "4120d4b3-332f-4e92-d4eb-78c0f3029796",
        "colab": {
          "base_uri": "https://localhost:8080/",
          "height": 67
        }
      },
      "source": [
        "model.fit(processed_x_train, filtered_y_train)"
      ],
      "execution_count": 0,
      "outputs": [
        {
          "output_type": "stream",
          "text": [
            "Epoch 1/1\n",
            "6265/6265 [==============================] - 12s 2ms/step - loss: 0.0567\n"
          ],
          "name": "stdout"
        },
        {
          "output_type": "execute_result",
          "data": {
            "text/plain": [
              "<keras.callbacks.History at 0x7fc9b89abb00>"
            ]
          },
          "metadata": {
            "tags": []
          },
          "execution_count": 153
        }
      ]
    },
    {
      "cell_type": "markdown",
      "metadata": {
        "id": "lh2mdrqNFxBz",
        "colab_type": "text"
      },
      "source": [
        "# Testing"
      ]
    },
    {
      "cell_type": "code",
      "metadata": {
        "id": "0TANk3yXFdTy",
        "colab_type": "code",
        "colab": {}
      },
      "source": [
        "preds = model.predict(processed_x_test)"
      ],
      "execution_count": 0,
      "outputs": []
    },
    {
      "cell_type": "code",
      "metadata": {
        "id": "Dy7BPKyIHBxr",
        "colab_type": "code",
        "colab": {}
      },
      "source": [
        "scores = np.sum((preds - center)**2, axis = 1)"
      ],
      "execution_count": 0,
      "outputs": []
    },
    {
      "cell_type": "markdown",
      "metadata": {
        "id": "-42CQO_1NGxA",
        "colab_type": "text"
      },
      "source": [
        "### Accuracy"
      ]
    },
    {
      "cell_type": "code",
      "metadata": {
        "id": "46tZwg3oNMPI",
        "colab_type": "code",
        "colab": {}
      },
      "source": [
        "thresh = np.percentile(scores, 100 * (len(filtered_y_train) / len(y_train)))"
      ],
      "execution_count": 0,
      "outputs": []
    },
    {
      "cell_type": "code",
      "metadata": {
        "id": "mPsLMMvqfpsc",
        "colab_type": "code",
        "colab": {}
      },
      "source": [
        "y_pred = []\n",
        "for score in scores:\n",
        "  if score < thresh:\n",
        "    y_pred.append(1)\n",
        "  else:\n",
        "    y_pred.append(0)\n",
        "    \n",
        "y_pred = np.array(y_pred)"
      ],
      "execution_count": 0,
      "outputs": []
    },
    {
      "cell_type": "code",
      "metadata": {
        "id": "13Q1dpZygG4Z",
        "colab_type": "code",
        "colab": {}
      },
      "source": [
        "y_true = []\n",
        "for label in y_test:\n",
        "  if label == DIGIT:\n",
        "    y_true.append(1)\n",
        "  else:\n",
        "    y_true.append(0)\n",
        "    \n",
        "y_true = np.array(y_true)"
      ],
      "execution_count": 0,
      "outputs": []
    },
    {
      "cell_type": "code",
      "metadata": {
        "id": "L5zXnOohgkhS",
        "colab_type": "code",
        "outputId": "ca4edd82-a976-430a-f2ff-e40c14662bf8",
        "colab": {
          "base_uri": "https://localhost:8080/",
          "height": 34
        }
      },
      "source": [
        "print(\"accuracy : \", 1 - (y_true - y_pred).sum() / len(y_true))"
      ],
      "execution_count": 0,
      "outputs": [
        {
          "output_type": "stream",
          "text": [
            "accuracy :  0.9977\n"
          ],
          "name": "stdout"
        }
      ]
    },
    {
      "cell_type": "markdown",
      "metadata": {
        "id": "BOaMQJhGHmGA",
        "colab_type": "text"
      },
      "source": [
        "# Visualization #1"
      ]
    },
    {
      "cell_type": "markdown",
      "metadata": {
        "id": "cLH1VYzVHpum",
        "colab_type": "text"
      },
      "source": [
        "Let's look at the most normal and most anomalous examples from the same class"
      ]
    },
    {
      "cell_type": "code",
      "metadata": {
        "id": "a1ZQE0tHe2Om",
        "colab_type": "code",
        "outputId": "6a051e8d-7b7b-40f8-9eaa-1ee365016056",
        "colab": {
          "base_uri": "https://localhost:8080/",
          "height": 34
        }
      },
      "source": [
        "len(scores)"
      ],
      "execution_count": 0,
      "outputs": [
        {
          "output_type": "execute_result",
          "data": {
            "text/plain": [
              "10000"
            ]
          },
          "metadata": {
            "tags": []
          },
          "execution_count": 157
        }
      ]
    },
    {
      "cell_type": "code",
      "metadata": {
        "id": "pJ38hE42HcUZ",
        "colab_type": "code",
        "colab": {}
      },
      "source": [
        "filter_ = np.isin(y_test, [DIGIT])\n",
        "filtered_x_test, filtered_y_test, filtered_scores = x_test[filter_], y_test[filter_], scores[filter_]"
      ],
      "execution_count": 0,
      "outputs": []
    },
    {
      "cell_type": "code",
      "metadata": {
        "id": "IBV-nzR-IgFF",
        "colab_type": "code",
        "colab": {}
      },
      "source": [
        "spectrum = np.argsort(filtered_scores)"
      ],
      "execution_count": 0,
      "outputs": []
    },
    {
      "cell_type": "markdown",
      "metadata": {
        "id": "QMB_oB2xLkXA",
        "colab_type": "text"
      },
      "source": [
        "## Typical Examples"
      ]
    },
    {
      "cell_type": "code",
      "metadata": {
        "id": "hy2zwZreLH45",
        "colab_type": "code",
        "outputId": "f6bb9329-1af6-4378-8a2f-da49d57a8a1b",
        "colab": {
          "base_uri": "https://localhost:8080/",
          "height": 486
        }
      },
      "source": [
        "w, h = 10, 10\n",
        "fig=plt.figure(figsize=(8, 8))\n",
        "columns = 4\n",
        "rows = 5\n",
        "\n",
        "rank = 0\n",
        "for i in range(1, columns*rows +1):\n",
        "    img = filtered_x_test[spectrum[rank]]\n",
        "    fig.add_subplot(rows, columns, i)\n",
        "    plt.imshow(img, cmap='gray')\n",
        "    rank += 1\n",
        "plt.show()"
      ],
      "execution_count": 0,
      "outputs": [
        {
          "output_type": "display_data",
          "data": {
            "image/png": "[encoded data removed]",
            "text/plain": [
              "<Figure size 576x576 with 20 Axes>"
            ]
          },
          "metadata": {
            "tags": []
          }
        }
      ]
    },
    {
      "cell_type": "markdown",
      "metadata": {
        "id": "OGFe5YT-LnJk",
        "colab_type": "text"
      },
      "source": [
        "## Anomalous Examples"
      ]
    },
    {
      "cell_type": "code",
      "metadata": {
        "id": "1jJRzCjtJroZ",
        "colab_type": "code",
        "outputId": "b7429de8-029f-4ff7-b380-0fdae60b92de",
        "colab": {
          "base_uri": "https://localhost:8080/",
          "height": 486
        }
      },
      "source": [
        "w, h = 10, 10\n",
        "fig=plt.figure(figsize=(8, 8))\n",
        "columns = 4\n",
        "rows = 5\n",
        "\n",
        "rank = 1\n",
        "for i in range(1, columns*rows +1):\n",
        "    img = filtered_x_test[spectrum[-rank]]\n",
        "    fig.add_subplot(rows, columns, i)\n",
        "    plt.imshow(img, cmap='gray')\n",
        "    rank += 1\n",
        "plt.show()"
      ],
      "execution_count": 0,
      "outputs": [
        {
          "output_type": "display_data",
          "data": {
            "image/png": "[encoded data removed]",
            "text/plain": [
              "<Figure size 576x576 with 20 Axes>"
            ]
          },
          "metadata": {
            "tags": []
          }
        }
      ]
    },
    {
      "cell_type": "markdown",
      "metadata": {
        "id": "RdRUHzWTOC1H",
        "colab_type": "text"
      },
      "source": [
        "# Visualization #2\n",
        "Let's look at wrongly classified examples"
      ]
    },
    {
      "cell_type": "code",
      "metadata": {
        "id": "7waEbPl3K0ax",
        "colab_type": "code",
        "colab": {}
      },
      "source": [
        ""
      ],
      "execution_count": 0,
      "outputs": []
    }
  ]
}